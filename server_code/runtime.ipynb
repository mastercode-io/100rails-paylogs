{
 "cells": [
  {
   "cell_type": "code",
   "execution_count": 6,
   "id": "initial_id",
   "metadata": {
    "collapsed": true,
    "ExecuteTime": {
     "end_time": "2023-10-23T13:21:04.778918Z",
     "start_time": "2023-10-23T13:21:04.761538Z"
    }
   },
   "outputs": [
    {
     "name": "stdout",
     "output_type": "stream",
     "text": [
      "(0, [(datetime.time(6, 0), datetime.time(14, 30))])\n",
      "(2.0, [(datetime.time(6, 0), datetime.time(18, 0))])\n",
      "(2.0, [(datetime.time(8, 0), datetime.time(18, 0)), (datetime.time(20, 0), datetime.time(22, 0))])\n",
      "(0, [(datetime.time(18, 0), datetime.time(23, 0))])\n"
     ]
    }
   ],
   "source": [
    "from datetime import datetime, time, timedelta\n",
    "\n",
    "def time_frame_intersection(initial_start, initial_end, template_start, template_end):\n",
    "    # Extract time from datetime objects\n",
    "    initial_start_time = initial_start.time()\n",
    "    initial_end_time = initial_end.time()\n",
    "\n",
    "    # Check for intersection\n",
    "    intersection_exists = (initial_start_time < template_end) and (initial_end_time > template_start)\n",
    "    \n",
    "    intersect_hours = 0\n",
    "    remaining_times = []\n",
    "    \n",
    "    if intersection_exists:\n",
    "        # Calculate intersecting time period\n",
    "        intersect_start = max(initial_start_time, template_start)\n",
    "        intersect_end = min(initial_end_time, template_end)\n",
    "        \n",
    "        # Convert to datetime for easy subtraction\n",
    "        delta = datetime.combine(datetime.today(), intersect_end) - datetime.combine(datetime.today(), intersect_start)\n",
    "        \n",
    "        # Calculate the total hours as a float\n",
    "        intersect_hours = delta.total_seconds() / 3600\n",
    "        \n",
    "        # Calculate remaining time frames\n",
    "        remaining_start_1 = initial_start_time\n",
    "        remaining_end_1 = min(initial_end_time, template_start)\n",
    "        \n",
    "        remaining_start_2 = max(initial_start_time, template_end)\n",
    "        remaining_end_2 = initial_end_time\n",
    "        \n",
    "        # Add to remaining_times list\n",
    "        if remaining_start_1 < remaining_end_1:\n",
    "            remaining_times.append((remaining_start_1, remaining_end_1))\n",
    "        if remaining_start_2 < remaining_end_2:\n",
    "            remaining_times.append((remaining_start_2, remaining_end_2))\n",
    "    else:\n",
    "        remaining_times.append((initial_start_time, initial_end_time))\n",
    "    \n",
    "    return intersect_hours, remaining_times\n",
    "\n",
    "# Examples\n",
    "print(time_frame_intersection(datetime(2023, 10, 24, 6, 0), datetime(2023, 10, 24, 14, 30), time(18, 0), time(23, 0)))  # No intersection\n",
    "print(time_frame_intersection(datetime(2023, 10, 24, 6, 0), datetime(2023, 10, 24, 20, 0), time(18, 0), time(23, 0)))  # Overlap\n",
    "print(time_frame_intersection(datetime(2023, 10, 24, 8, 0), datetime(2023, 10, 24, 22, 0), time(18, 0), time(20, 0)))  # Overlap, both Remaining_1 and Remaining_2\n",
    "print(time_frame_intersection(datetime(2023, 10, 24, 18, 0), datetime(2023, 10, 24, 23, 0), time(6, 0), time(18, 0)))  # Overlap, only Remaining_2\n"
   ]
  }
 ],
 "metadata": {
  "kernelspec": {
   "display_name": "Python 3",
   "language": "python",
   "name": "python3"
  },
  "language_info": {
   "codemirror_mode": {
    "name": "ipython",
    "version": 2
   },
   "file_extension": ".py",
   "mimetype": "text/x-python",
   "name": "python",
   "nbconvert_exporter": "python",
   "pygments_lexer": "ipython2",
   "version": "2.7.6"
  }
 },
 "nbformat": 4,
 "nbformat_minor": 5
}
